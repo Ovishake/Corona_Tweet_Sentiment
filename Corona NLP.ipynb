{
 "cells": [
  {
   "cell_type": "markdown",
   "metadata": {},
   "source": [
    "# Imports"
   ]
  },
  {
   "cell_type": "code",
   "execution_count": 1,
   "metadata": {},
   "outputs": [],
   "source": [
    "import numpy as np\n",
    "import tensorflow as tf\n",
    "from tensorflow.keras.layers import Embedding, Flatten, Dense, LSTM, Bidirectional, GlobalMaxPool1D, Dense, Dropout\n",
    "from tensorflow.keras.models import Sequential\n",
    "import pandas\n",
    "import nltk\n",
    "import re\n",
    "from tensorflow.keras.preprocessing.text import Tokenizer\n",
    "from tensorflow.keras.preprocessing.text import one_hot\n",
    "from tensorflow.keras.preprocessing.sequence import pad_sequences\n",
    "from tensorflow.keras.losses import SparseCategoricalCrossentropy\n",
    "# from tensorkeras.layers.embeddings import Embedding"
   ]
  },
  {
   "cell_type": "code",
   "execution_count": 165,
   "metadata": {},
   "outputs": [],
   "source": [
    "from nltk.stem import WordNetLemmatizer\n",
    "import pandas as pd\n",
    "from scipy import interp\n",
    "from itertools import cycle"
   ]
  },
  {
   "cell_type": "code",
   "execution_count": 3,
   "metadata": {},
   "outputs": [],
   "source": [
    "from sklearn.model_selection import train_test_split"
   ]
  },
  {
   "cell_type": "code",
   "execution_count": 5,
   "metadata": {},
   "outputs": [],
   "source": [
    "from tensorflow_addons.activations import mish"
   ]
  },
  {
   "cell_type": "code",
   "execution_count": 7,
   "metadata": {},
   "outputs": [
    {
     "name": "stderr",
     "output_type": "stream",
     "text": [
      "[nltk_data] Downloading package punkt to\n",
      "[nltk_data]     C:\\Users\\avish\\AppData\\Roaming\\nltk_data...\n",
      "[nltk_data]   Package punkt is already up-to-date!\n"
     ]
    },
    {
     "data": {
      "text/plain": [
       "True"
      ]
     },
     "execution_count": 7,
     "metadata": {},
     "output_type": "execute_result"
    }
   ],
   "source": [
    "nltk.download('punkt')"
   ]
  },
  {
   "cell_type": "code",
   "execution_count": 8,
   "metadata": {},
   "outputs": [
    {
     "name": "stderr",
     "output_type": "stream",
     "text": [
      "[nltk_data] Downloading package wordnet to\n",
      "[nltk_data]     C:\\Users\\avish\\AppData\\Roaming\\nltk_data...\n",
      "[nltk_data]   Package wordnet is already up-to-date!\n"
     ]
    },
    {
     "data": {
      "text/plain": [
       "True"
      ]
     },
     "execution_count": 8,
     "metadata": {},
     "output_type": "execute_result"
    }
   ],
   "source": [
    "nltk.download('wordnet')"
   ]
  },
  {
   "cell_type": "code",
   "execution_count": 9,
   "metadata": {},
   "outputs": [
    {
     "data": {
      "text/plain": [
       "[PhysicalDevice(name='/physical_device:CPU:0', device_type='CPU'),\n",
       " PhysicalDevice(name='/physical_device:XLA_CPU:0', device_type='XLA_CPU'),\n",
       " PhysicalDevice(name='/physical_device:XLA_GPU:0', device_type='XLA_GPU')]"
      ]
     },
     "execution_count": 9,
     "metadata": {},
     "output_type": "execute_result"
    }
   ],
   "source": [
    "tf.config.list_physical_devices(\n",
    "    device_type=None\n",
    ")"
   ]
  },
  {
   "cell_type": "code",
   "execution_count": 10,
   "metadata": {},
   "outputs": [
    {
     "name": "stderr",
     "output_type": "stream",
     "text": [
      "[nltk_data] Downloading package stopwords to\n",
      "[nltk_data]     C:\\Users\\avish\\AppData\\Roaming\\nltk_data...\n",
      "[nltk_data]   Package stopwords is already up-to-date!\n"
     ]
    },
    {
     "data": {
      "text/plain": [
       "True"
      ]
     },
     "execution_count": 10,
     "metadata": {},
     "output_type": "execute_result"
    }
   ],
   "source": [
    "nltk.download('stopwords')"
   ]
  },
  {
   "cell_type": "markdown",
   "metadata": {},
   "source": [
    "### Callbacks"
   ]
  },
  {
   "cell_type": "code",
   "execution_count": 80,
   "metadata": {},
   "outputs": [],
   "source": [
    "from tensorflow.keras.callbacks import ModelCheckpoint, LearningRateScheduler, TensorBoard, EarlyStopping, ReduceLROnPlateau"
   ]
  },
  {
   "cell_type": "markdown",
   "metadata": {},
   "source": [
    "### Config"
   ]
  },
  {
   "cell_type": "code",
   "execution_count": 13,
   "metadata": {},
   "outputs": [],
   "source": [
    "lemmatizer = nltk.WordNetLemmatizer()"
   ]
  },
  {
   "cell_type": "code",
   "execution_count": 6,
   "metadata": {},
   "outputs": [],
   "source": [
    "config = {\n",
    "    'filesavepath': 'corona.hdf5',\n",
    "    'batch_size': 16,\n",
    "}"
   ]
  },
  {
   "cell_type": "markdown",
   "metadata": {},
   "source": [
    "### Methods"
   ]
  },
  {
   "cell_type": "code",
   "execution_count": 11,
   "metadata": {},
   "outputs": [],
   "source": [
    "def extract_hash_tags(s):\n",
    "    hashes = re.findall(r\"#(\\w+)\", s)\n",
    "    return \" \".join(hashes)"
   ]
  },
  {
   "cell_type": "code",
   "execution_count": 12,
   "metadata": {},
   "outputs": [],
   "source": [
    "def extract_mentions(s):\n",
    "    hashes = re.findall(r\"@(\\w+)\", s)\n",
    "    return \" \".join(hashes)"
   ]
  },
  {
   "cell_type": "code",
   "execution_count": 14,
   "metadata": {},
   "outputs": [],
   "source": [
    "def data_cleaner(tweet):\n",
    "    \n",
    "    # remove urls\n",
    "    tweet = re.sub(r'http\\S+', ' ', tweet)\n",
    "    \n",
    "    # remove html tags\n",
    "    tweet = re.sub(r'<.*?>',' ', tweet)\n",
    "    \n",
    "    # remove digits\n",
    "    tweet = re.sub(r'\\d+',' ', tweet)\n",
    "    \n",
    "    # remove hashtags\n",
    "    tweet = re.sub(r'#\\w+',' ', tweet)\n",
    "    \n",
    "    # remove mentions\n",
    "    tweet = re.sub(r'@\\w+',' ', tweet)\n",
    "    \n",
    "    tokenizer = nltk.RegexpTokenizer(r\"\\w+\") # removing all punctuations\n",
    "    \n",
    "    tweet = tokenizer.tokenize(tweet)\n",
    "    \n",
    "    tweet = \" \".join([lemmatizer.lemmatize(word)\\\n",
    "                      for word in tweet if not word in nltk.corpus.stopwords.words('english')]) #lemmatizing\n",
    "    # removing stop words\n",
    "    \n",
    "    tweet = \"\".join([char for char in tweet if not char.isdigit()]) # removing numbers\n",
    "    \n",
    "    return tweet"
   ]
  },
  {
   "cell_type": "code",
   "execution_count": 15,
   "metadata": {},
   "outputs": [
    {
     "data": {
      "text/html": [
       "<div>\n",
       "<style scoped>\n",
       "    .dataframe tbody tr th:only-of-type {\n",
       "        vertical-align: middle;\n",
       "    }\n",
       "\n",
       "    .dataframe tbody tr th {\n",
       "        vertical-align: top;\n",
       "    }\n",
       "\n",
       "    .dataframe thead th {\n",
       "        text-align: right;\n",
       "    }\n",
       "</style>\n",
       "<table border=\"1\" class=\"dataframe\">\n",
       "  <thead>\n",
       "    <tr style=\"text-align: right;\">\n",
       "      <th></th>\n",
       "      <th>UserName</th>\n",
       "      <th>ScreenName</th>\n",
       "      <th>Location</th>\n",
       "      <th>TweetAt</th>\n",
       "      <th>OriginalTweet</th>\n",
       "      <th>Sentiment</th>\n",
       "    </tr>\n",
       "  </thead>\n",
       "  <tbody>\n",
       "    <tr>\n",
       "      <th>0</th>\n",
       "      <td>3799</td>\n",
       "      <td>48751</td>\n",
       "      <td>London</td>\n",
       "      <td>16-03-2020</td>\n",
       "      <td>@MeNyrbie @Phil_Gahan @Chrisitv https://t.co/i...</td>\n",
       "      <td>Neutral</td>\n",
       "    </tr>\n",
       "    <tr>\n",
       "      <th>1</th>\n",
       "      <td>3800</td>\n",
       "      <td>48752</td>\n",
       "      <td>UK</td>\n",
       "      <td>16-03-2020</td>\n",
       "      <td>advice Talk to your neighbours family to excha...</td>\n",
       "      <td>Positive</td>\n",
       "    </tr>\n",
       "    <tr>\n",
       "      <th>2</th>\n",
       "      <td>3801</td>\n",
       "      <td>48753</td>\n",
       "      <td>Vagabonds</td>\n",
       "      <td>16-03-2020</td>\n",
       "      <td>Coronavirus Australia: Woolworths to give elde...</td>\n",
       "      <td>Positive</td>\n",
       "    </tr>\n",
       "    <tr>\n",
       "      <th>3</th>\n",
       "      <td>3802</td>\n",
       "      <td>48754</td>\n",
       "      <td>NaN</td>\n",
       "      <td>16-03-2020</td>\n",
       "      <td>My food stock is not the only one which is emp...</td>\n",
       "      <td>Positive</td>\n",
       "    </tr>\n",
       "    <tr>\n",
       "      <th>4</th>\n",
       "      <td>3803</td>\n",
       "      <td>48755</td>\n",
       "      <td>NaN</td>\n",
       "      <td>16-03-2020</td>\n",
       "      <td>Me, ready to go at supermarket during the #COV...</td>\n",
       "      <td>Extremely Negative</td>\n",
       "    </tr>\n",
       "  </tbody>\n",
       "</table>\n",
       "</div>"
      ],
      "text/plain": [
       "   UserName  ScreenName   Location     TweetAt  \\\n",
       "0      3799       48751     London  16-03-2020   \n",
       "1      3800       48752         UK  16-03-2020   \n",
       "2      3801       48753  Vagabonds  16-03-2020   \n",
       "3      3802       48754        NaN  16-03-2020   \n",
       "4      3803       48755        NaN  16-03-2020   \n",
       "\n",
       "                                       OriginalTweet           Sentiment  \n",
       "0  @MeNyrbie @Phil_Gahan @Chrisitv https://t.co/i...             Neutral  \n",
       "1  advice Talk to your neighbours family to excha...            Positive  \n",
       "2  Coronavirus Australia: Woolworths to give elde...            Positive  \n",
       "3  My food stock is not the only one which is emp...            Positive  \n",
       "4  Me, ready to go at supermarket during the #COV...  Extremely Negative  "
      ]
     },
     "execution_count": 15,
     "metadata": {},
     "output_type": "execute_result"
    }
   ],
   "source": [
    "training = pd.read_csv(r'Corona_NLP_train.csv', encoding='latin1')\n",
    "training.head()"
   ]
  },
  {
   "cell_type": "code",
   "execution_count": null,
   "metadata": {},
   "outputs": [],
   "source": [
    "testing = pd.read_csv(r'Corona_NLP_test.csv', encoding='latin1')"
   ]
  },
  {
   "cell_type": "code",
   "execution_count": 16,
   "metadata": {},
   "outputs": [],
   "source": [
    "training['hashtags'] = training['OriginalTweet'].apply(extract_hash_tags)"
   ]
  },
  {
   "cell_type": "code",
   "execution_count": 17,
   "metadata": {},
   "outputs": [],
   "source": [
    "training['mentions'] = training['OriginalTweet'].apply(extract_mentions)"
   ]
  },
  {
   "cell_type": "code",
   "execution_count": 18,
   "metadata": {},
   "outputs": [],
   "source": [
    "from sklearn.preprocessing import LabelEncoder\n",
    "\n",
    "encoder = LabelEncoder()\n",
    "training['encoded_sentiment'] = encoder.fit_transform(training['Sentiment'])"
   ]
  },
  {
   "cell_type": "code",
   "execution_count": 19,
   "metadata": {},
   "outputs": [
    {
     "data": {
      "text/plain": [
       "{'Extremely Negative', 'Extremely Positive', 'Negative', 'Neutral', 'Positive'}"
      ]
     },
     "execution_count": 19,
     "metadata": {},
     "output_type": "execute_result"
    }
   ],
   "source": [
    "set(training['Sentiment'].values)"
   ]
  },
  {
   "cell_type": "code",
   "execution_count": 20,
   "metadata": {},
   "outputs": [
    {
     "data": {
      "text/plain": [
       "{0, 1, 2, 3, 4}"
      ]
     },
     "execution_count": 20,
     "metadata": {},
     "output_type": "execute_result"
    }
   ],
   "source": [
    "set(training['encoded_sentiment'].values)"
   ]
  },
  {
   "cell_type": "code",
   "execution_count": 21,
   "metadata": {},
   "outputs": [
    {
     "data": {
      "text/html": [
       "<div>\n",
       "<style scoped>\n",
       "    .dataframe tbody tr th:only-of-type {\n",
       "        vertical-align: middle;\n",
       "    }\n",
       "\n",
       "    .dataframe tbody tr th {\n",
       "        vertical-align: top;\n",
       "    }\n",
       "\n",
       "    .dataframe thead th {\n",
       "        text-align: right;\n",
       "    }\n",
       "</style>\n",
       "<table border=\"1\" class=\"dataframe\">\n",
       "  <thead>\n",
       "    <tr style=\"text-align: right;\">\n",
       "      <th></th>\n",
       "      <th>UserName</th>\n",
       "      <th>ScreenName</th>\n",
       "      <th>Location</th>\n",
       "      <th>TweetAt</th>\n",
       "      <th>OriginalTweet</th>\n",
       "      <th>Sentiment</th>\n",
       "      <th>hashtags</th>\n",
       "      <th>mentions</th>\n",
       "      <th>encoded_sentiment</th>\n",
       "    </tr>\n",
       "  </thead>\n",
       "  <tbody>\n",
       "    <tr>\n",
       "      <th>39354</th>\n",
       "      <td>43153</td>\n",
       "      <td>88105</td>\n",
       "      <td>Barcelona, Spain</td>\n",
       "      <td>12-04-2020</td>\n",
       "      <td>#Coronavirus: #Singapore #property prices set ...</td>\n",
       "      <td>Negative</td>\n",
       "      <td>Coronavirus Singapore property</td>\n",
       "      <td>scmpnews</td>\n",
       "      <td>2</td>\n",
       "    </tr>\n",
       "    <tr>\n",
       "      <th>21021</th>\n",
       "      <td>24820</td>\n",
       "      <td>69772</td>\n",
       "      <td>Toronto, Ontario</td>\n",
       "      <td>25-03-2020</td>\n",
       "      <td>WE ARE OPEN - More hand sanitizer and supplies...</td>\n",
       "      <td>Extremely Positive</td>\n",
       "      <td>covid19 coronavirus canada</td>\n",
       "      <td></td>\n",
       "      <td>1</td>\n",
       "    </tr>\n",
       "    <tr>\n",
       "      <th>7593</th>\n",
       "      <td>11392</td>\n",
       "      <td>56344</td>\n",
       "      <td>ÃT: 41.230596,-76.976382</td>\n",
       "      <td>19-03-2020</td>\n",
       "      <td>Retail stores, including Giant, Target, and Wa...</td>\n",
       "      <td>Positive</td>\n",
       "      <td>NCPA COVID PACoronavirus</td>\n",
       "      <td></td>\n",
       "      <td>4</td>\n",
       "    </tr>\n",
       "    <tr>\n",
       "      <th>33856</th>\n",
       "      <td>37655</td>\n",
       "      <td>82607</td>\n",
       "      <td>Los Angeles, CA</td>\n",
       "      <td>08-04-2020</td>\n",
       "      <td>Lately all I do is get cute to go to the groce...</td>\n",
       "      <td>Positive</td>\n",
       "      <td>brooklynmadison coronavirus covid covid19 wuha...</td>\n",
       "      <td></td>\n",
       "      <td>4</td>\n",
       "    </tr>\n",
       "    <tr>\n",
       "      <th>24242</th>\n",
       "      <td>28041</td>\n",
       "      <td>72993</td>\n",
       "      <td>NaN</td>\n",
       "      <td>26-03-2020</td>\n",
       "      <td>Next stops online shopping amid UK coronavirus...</td>\n",
       "      <td>Negative</td>\n",
       "      <td>coronavirus COVID19 COVID Covid_19 corona Coro...</td>\n",
       "      <td></td>\n",
       "      <td>2</td>\n",
       "    </tr>\n",
       "  </tbody>\n",
       "</table>\n",
       "</div>"
      ],
      "text/plain": [
       "       UserName  ScreenName                   Location     TweetAt  \\\n",
       "39354     43153       88105           Barcelona, Spain  12-04-2020   \n",
       "21021     24820       69772           Toronto, Ontario  25-03-2020   \n",
       "7593      11392       56344  ÃT: 41.230596,-76.976382  19-03-2020   \n",
       "33856     37655       82607            Los Angeles, CA  08-04-2020   \n",
       "24242     28041       72993                        NaN  26-03-2020   \n",
       "\n",
       "                                           OriginalTweet           Sentiment  \\\n",
       "39354  #Coronavirus: #Singapore #property prices set ...            Negative   \n",
       "21021  WE ARE OPEN - More hand sanitizer and supplies...  Extremely Positive   \n",
       "7593   Retail stores, including Giant, Target, and Wa...            Positive   \n",
       "33856  Lately all I do is get cute to go to the groce...            Positive   \n",
       "24242  Next stops online shopping amid UK coronavirus...            Negative   \n",
       "\n",
       "                                                hashtags  mentions  \\\n",
       "39354                     Coronavirus Singapore property  scmpnews   \n",
       "21021                         covid19 coronavirus canada             \n",
       "7593                            NCPA COVID PACoronavirus             \n",
       "33856  brooklynmadison coronavirus covid covid19 wuha...             \n",
       "24242  coronavirus COVID19 COVID Covid_19 corona Coro...             \n",
       "\n",
       "       encoded_sentiment  \n",
       "39354                  2  \n",
       "21021                  1  \n",
       "7593                   4  \n",
       "33856                  4  \n",
       "24242                  2  "
      ]
     },
     "execution_count": 21,
     "metadata": {},
     "output_type": "execute_result"
    }
   ],
   "source": [
    "training.sample(frac=0.5).head()"
   ]
  },
  {
   "cell_type": "code",
   "execution_count": 22,
   "metadata": {},
   "outputs": [],
   "source": [
    "training['Clean'] = training['OriginalTweet'].apply(data_cleaner)"
   ]
  },
  {
   "cell_type": "code",
   "execution_count": 23,
   "metadata": {},
   "outputs": [
    {
     "data": {
      "text/plain": [
       "0                                                     \n",
       "1    advice Talk neighbour family exchange phone nu...\n",
       "2    Coronavirus Australia Woolworths give elderly ...\n",
       "3    My food stock one empty PLEASE panic THERE WIL...\n",
       "4    Me ready go supermarket outbreak Not I paranoi...\n",
       "Name: Clean, dtype: object"
      ]
     },
     "execution_count": 23,
     "metadata": {},
     "output_type": "execute_result"
    }
   ],
   "source": [
    "training['Clean'].head()"
   ]
  },
  {
   "cell_type": "markdown",
   "metadata": {},
   "source": [
    "## Tokenizer"
   ]
  },
  {
   "cell_type": "code",
   "execution_count": 71,
   "metadata": {},
   "outputs": [],
   "source": [
    "tokenizer=Tokenizer(oov_token = 'outOfVocab')"
   ]
  },
  {
   "cell_type": "code",
   "execution_count": 72,
   "metadata": {},
   "outputs": [],
   "source": [
    "tokenizer.fit_on_texts(training['Clean'].values)"
   ]
  },
  {
   "cell_type": "markdown",
   "metadata": {},
   "source": [
    "### Fit on Text --> Text2Seq --> Padded Sequences"
   ]
  },
  {
   "cell_type": "code",
   "execution_count": 73,
   "metadata": {},
   "outputs": [],
   "source": [
    "X = tokenizer.texts_to_sequences(training['Clean'].values)"
   ]
  },
  {
   "cell_type": "code",
   "execution_count": 74,
   "metadata": {},
   "outputs": [],
   "source": [
    "X = pad_sequences(X, padding='post')"
   ]
  },
  {
   "cell_type": "code",
   "execution_count": 75,
   "metadata": {},
   "outputs": [
    {
     "data": {
      "text/plain": [
       "54"
      ]
     },
     "execution_count": 75,
     "metadata": {},
     "output_type": "execute_result"
    }
   ],
   "source": [
    "len(X[1])"
   ]
  },
  {
   "cell_type": "code",
   "execution_count": 78,
   "metadata": {},
   "outputs": [
    {
     "name": "stdout",
     "output_type": "stream",
     "text": [
      "32117\n"
     ]
    }
   ],
   "source": [
    "vocab_size = len(tokenizer.word_index)+1\n",
    "print(vocab_size)"
   ]
  },
  {
   "cell_type": "code",
   "execution_count": 79,
   "metadata": {},
   "outputs": [
    {
     "data": {
      "text/plain": [
       "(41157, 54)"
      ]
     },
     "execution_count": 79,
     "metadata": {},
     "output_type": "execute_result"
    }
   ],
   "source": [
    "X.shape"
   ]
  },
  {
   "cell_type": "markdown",
   "metadata": {},
   "source": [
    "## Period\n",
    "Period is deprecated"
   ]
  },
  {
   "cell_type": "code",
   "execution_count": 81,
   "metadata": {},
   "outputs": [],
   "source": [
    "labels = pd.get_dummies(training['Sentiment'])"
   ]
  },
  {
   "cell_type": "code",
   "execution_count": 82,
   "metadata": {
    "scrolled": true
   },
   "outputs": [],
   "source": [
    "x_train, y_train, x_labels, y_labels = train_test_split(X, labels, test_size = 0.3, random_state=40)"
   ]
  },
  {
   "cell_type": "code",
   "execution_count": 83,
   "metadata": {},
   "outputs": [
    {
     "data": {
      "text/plain": [
       "(28809, 54)"
      ]
     },
     "execution_count": 83,
     "metadata": {},
     "output_type": "execute_result"
    }
   ],
   "source": [
    "x_train.shape"
   ]
  },
  {
   "cell_type": "code",
   "execution_count": 84,
   "metadata": {},
   "outputs": [
    {
     "data": {
      "text/plain": [
       "(12348, 54)"
      ]
     },
     "execution_count": 84,
     "metadata": {},
     "output_type": "execute_result"
    }
   ],
   "source": [
    "y_train.shape"
   ]
  },
  {
   "cell_type": "code",
   "execution_count": 85,
   "metadata": {},
   "outputs": [
    {
     "data": {
      "text/plain": [
       "(28809, 5)"
      ]
     },
     "execution_count": 85,
     "metadata": {},
     "output_type": "execute_result"
    }
   ],
   "source": [
    "x_labels.shape"
   ]
  },
  {
   "cell_type": "code",
   "execution_count": 86,
   "metadata": {},
   "outputs": [
    {
     "data": {
      "text/plain": [
       "(12348, 5)"
      ]
     },
     "execution_count": 86,
     "metadata": {},
     "output_type": "execute_result"
    }
   ],
   "source": [
    "y_labels.shape"
   ]
  },
  {
   "cell_type": "markdown",
   "metadata": {},
   "source": [
    "## Checkpoints"
   ]
  },
  {
   "cell_type": "code",
   "execution_count": 88,
   "metadata": {},
   "outputs": [],
   "source": [
    "checkpoint = ModelCheckpoint(config['filesavepath'], monitor='loss', \\\n",
    "                             verbose=0, save_best_only=True, save_weights_only=False,\\\n",
    "                             mode='min', save_freq=3)"
   ]
  },
  {
   "cell_type": "code",
   "execution_count": 115,
   "metadata": {},
   "outputs": [],
   "source": [
    "reduce_lr = ReduceLROnPlateau(monitor='val_accuracy', factor=0.1, patience=5,\\\n",
    "                              verbose=0, mode='max', min_delta=0.0000000000001, \\\n",
    "                              cooldown=0, min_lr=0)"
   ]
  },
  {
   "cell_type": "code",
   "execution_count": 107,
   "metadata": {},
   "outputs": [],
   "source": [
    "adam = tf.keras.optimizers.Adam(\n",
    "    learning_rate=0.01, beta_1=0.9, beta_2=0.999, epsilon=1e-07, amsgrad=True,\n",
    "    name='Adam'\n",
    ")"
   ]
  },
  {
   "cell_type": "code",
   "execution_count": 116,
   "metadata": {},
   "outputs": [],
   "source": [
    "model = tf.keras.Sequential(\n",
    "    [\n",
    "        tf.keras.layers.Embedding(\n",
    "            len(tokenizer.word_index) + 1, config['batch_size'], input_length=X.shape[1]\n",
    "        ),\n",
    "        tf.keras.layers.GlobalAveragePooling1D(),\n",
    "        Dropout(0.1),\n",
    "        tf.keras.layers.Dense(24, activation=mish),\n",
    "        Dropout(0.3),\n",
    "        tf.keras.layers.Dense(5, activation=\"sigmoid\"),\n",
    "    ]\n",
    ")\n",
    "\n",
    "model.compile(loss=\"categorical_crossentropy\", optimizer=adam, metrics=[\"accuracy\"])"
   ]
  },
  {
   "cell_type": "code",
   "execution_count": 52,
   "metadata": {},
   "outputs": [
    {
     "data": {
      "text/plain": [
       "[PhysicalDevice(name='/physical_device:CPU:0', device_type='CPU'),\n",
       " PhysicalDevice(name='/physical_device:XLA_CPU:0', device_type='XLA_CPU'),\n",
       " PhysicalDevice(name='/physical_device:XLA_GPU:0', device_type='XLA_GPU')]"
      ]
     },
     "execution_count": 52,
     "metadata": {},
     "output_type": "execute_result"
    }
   ],
   "source": [
    "tf.config.list_physical_devices()"
   ]
  },
  {
   "cell_type": "code",
   "execution_count": 118,
   "metadata": {},
   "outputs": [
    {
     "name": "stdout",
     "output_type": "stream",
     "text": [
      "Epoch 1/1801\n",
      "1801/1801 [==============================] - 11s 6ms/step - loss: 0.9783 - accuracy: 0.6103 - val_loss: 1.0429 - val_accuracy: 0.5856\n",
      "Epoch 2/1801\n",
      "1801/1801 [==============================] - 13s 7ms/step - loss: 0.9564 - accuracy: 0.6201 - val_loss: 1.0306 - val_accuracy: 0.5940\n",
      "Epoch 3/1801\n",
      "1801/1801 [==============================] - 14s 8ms/step - loss: 0.9375 - accuracy: 0.6304 - val_loss: 1.0206 - val_accuracy: 0.5999\n",
      "Epoch 4/1801\n",
      "1801/1801 [==============================] - 14s 8ms/step - loss: 0.9209 - accuracy: 0.6399 - val_loss: 1.0102 - val_accuracy: 0.6050\n",
      "Epoch 5/1801\n",
      "1801/1801 [==============================] - 14s 8ms/step - loss: 0.9033 - accuracy: 0.6499 - val_loss: 0.9996 - val_accuracy: 0.6102\n",
      "Epoch 6/1801\n",
      "1801/1801 [==============================] - 14s 8ms/step - loss: 0.8910 - accuracy: 0.6540 - val_loss: 0.9914 - val_accuracy: 0.6140\n",
      "Epoch 7/1801\n",
      "1801/1801 [==============================] - 14s 8ms/step - loss: 0.8723 - accuracy: 0.6648 - val_loss: 0.9833 - val_accuracy: 0.6176\n",
      "Epoch 8/1801\n",
      "1801/1801 [==============================] - 14s 8ms/step - loss: 0.8587 - accuracy: 0.6724 - val_loss: 0.9771 - val_accuracy: 0.6262\n",
      "Epoch 9/1801\n",
      "1801/1801 [==============================] - 14s 8ms/step - loss: 0.8445 - accuracy: 0.6815 - val_loss: 0.9695 - val_accuracy: 0.6271\n",
      "Epoch 10/1801\n",
      "1801/1801 [==============================] - 14s 8ms/step - loss: 0.8318 - accuracy: 0.6888 - val_loss: 0.9631 - val_accuracy: 0.6290\n",
      "Epoch 11/1801\n",
      "1801/1801 [==============================] - 14s 8ms/step - loss: 0.8150 - accuracy: 0.6954 - val_loss: 0.9572 - val_accuracy: 0.6324\n",
      "Epoch 12/1801\n",
      "1801/1801 [==============================] - 14s 8ms/step - loss: 0.8015 - accuracy: 0.7012 - val_loss: 0.9526 - val_accuracy: 0.6387\n",
      "Epoch 13/1801\n",
      "1801/1801 [==============================] - 15s 8ms/step - loss: 0.7900 - accuracy: 0.7052 - val_loss: 0.9476 - val_accuracy: 0.6355\n",
      "Epoch 14/1801\n",
      "1801/1801 [==============================] - 15s 8ms/step - loss: 0.7771 - accuracy: 0.7125 - val_loss: 0.9430 - val_accuracy: 0.6373\n",
      "Epoch 15/1801\n",
      "1801/1801 [==============================] - 13s 7ms/step - loss: 0.7656 - accuracy: 0.7148 - val_loss: 0.9364 - val_accuracy: 0.6464\n",
      "Epoch 16/1801\n",
      "1801/1801 [==============================] - 13s 7ms/step - loss: 0.7542 - accuracy: 0.7257 - val_loss: 0.9355 - val_accuracy: 0.6476\n",
      "Epoch 17/1801\n",
      "1801/1801 [==============================] - 13s 7ms/step - loss: 0.7394 - accuracy: 0.7361 - val_loss: 0.9291 - val_accuracy: 0.6479\n",
      "Epoch 18/1801\n",
      "1801/1801 [==============================] - 13s 7ms/step - loss: 0.7273 - accuracy: 0.7362 - val_loss: 0.9249 - val_accuracy: 0.6522\n",
      "Epoch 19/1801\n",
      "1801/1801 [==============================] - 14s 8ms/step - loss: 0.7204 - accuracy: 0.7401 - val_loss: 0.9211 - val_accuracy: 0.6537\n",
      "Epoch 20/1801\n",
      "1801/1801 [==============================] - 14s 8ms/step - loss: 0.7096 - accuracy: 0.7415 - val_loss: 0.9167 - val_accuracy: 0.6579\n",
      "Epoch 21/1801\n",
      "1801/1801 [==============================] - 13s 7ms/step - loss: 0.6982 - accuracy: 0.7497 - val_loss: 0.9143 - val_accuracy: 0.6586\n",
      "Epoch 22/1801\n",
      "1801/1801 [==============================] - 14s 8ms/step - loss: 0.6886 - accuracy: 0.7549 - val_loss: 0.9156 - val_accuracy: 0.6612\n",
      "Epoch 23/1801\n",
      "1801/1801 [==============================] - 13s 7ms/step - loss: 0.6820 - accuracy: 0.7576 - val_loss: 0.9097 - val_accuracy: 0.6633\n",
      "Epoch 24/1801\n",
      "1801/1801 [==============================] - 13s 7ms/step - loss: 0.6701 - accuracy: 0.7614 - val_loss: 0.9068 - val_accuracy: 0.6663\n",
      "Epoch 25/1801\n",
      "1801/1801 [==============================] - 13s 7ms/step - loss: 0.6603 - accuracy: 0.7673 - val_loss: 0.9067 - val_accuracy: 0.6672\n",
      "Epoch 26/1801\n",
      "1801/1801 [==============================] - 13s 7ms/step - loss: 0.6532 - accuracy: 0.7663 - val_loss: 0.9038 - val_accuracy: 0.6689\n",
      "Epoch 27/1801\n",
      "1801/1801 [==============================] - 14s 8ms/step - loss: 0.6435 - accuracy: 0.7760 - val_loss: 0.9027 - val_accuracy: 0.6691\n",
      "Epoch 28/1801\n",
      "1801/1801 [==============================] - 14s 8ms/step - loss: 0.6341 - accuracy: 0.7730 - val_loss: 0.9015 - val_accuracy: 0.6730\n",
      "Epoch 29/1801\n",
      "1801/1801 [==============================] - 14s 8ms/step - loss: 0.6311 - accuracy: 0.7783 - val_loss: 0.9026 - val_accuracy: 0.6730\n",
      "Epoch 30/1801\n",
      "1801/1801 [==============================] - 13s 7ms/step - loss: 0.6222 - accuracy: 0.7826 - val_loss: 0.8995 - val_accuracy: 0.6757\n",
      "Epoch 31/1801\n",
      "1801/1801 [==============================] - 14s 8ms/step - loss: 0.6137 - accuracy: 0.7845 - val_loss: 0.9002 - val_accuracy: 0.6761\n",
      "Epoch 32/1801\n",
      "1801/1801 [==============================] - 14s 8ms/step - loss: 0.6056 - accuracy: 0.7890 - val_loss: 0.8995 - val_accuracy: 0.6782\n",
      "Epoch 33/1801\n",
      "1801/1801 [==============================] - 14s 8ms/step - loss: 0.6005 - accuracy: 0.7911 - val_loss: 0.8990 - val_accuracy: 0.6762\n",
      "Epoch 34/1801\n",
      "1801/1801 [==============================] - 14s 8ms/step - loss: 0.5916 - accuracy: 0.7917 - val_loss: 0.9045 - val_accuracy: 0.6723\n",
      "Epoch 35/1801\n",
      "1801/1801 [==============================] - 14s 8ms/step - loss: 0.5874 - accuracy: 0.7942 - val_loss: 0.9015 - val_accuracy: 0.6767\n",
      "Epoch 36/1801\n",
      "1801/1801 [==============================] - 12s 7ms/step - loss: 0.5757 - accuracy: 0.7975 - val_loss: 0.9031 - val_accuracy: 0.6765\n",
      "Epoch 37/1801\n",
      "1801/1801 [==============================] - 12s 7ms/step - loss: 0.5755 - accuracy: 0.7984 - val_loss: 0.9034 - val_accuracy: 0.6746\n",
      "Epoch 38/1801\n",
      "1801/1801 [==============================] - 13s 7ms/step - loss: 0.5661 - accuracy: 0.8028 - val_loss: 0.9020 - val_accuracy: 0.6774\n",
      "Epoch 39/1801\n",
      "1801/1801 [==============================] - 12s 7ms/step - loss: 0.5678 - accuracy: 0.8042 - val_loss: 0.9027 - val_accuracy: 0.6760\n",
      "Epoch 40/1801\n",
      "1801/1801 [==============================] - 12s 7ms/step - loss: 0.5648 - accuracy: 0.8025 - val_loss: 0.9024 - val_accuracy: 0.6770\n",
      "Epoch 41/1801\n",
      "1801/1801 [==============================] - 12s 7ms/step - loss: 0.5623 - accuracy: 0.8018 - val_loss: 0.9025 - val_accuracy: 0.6778\n",
      "Epoch 42/1801\n",
      "1801/1801 [==============================] - 12s 7ms/step - loss: 0.5635 - accuracy: 0.8034 - val_loss: 0.9028 - val_accuracy: 0.6766\n",
      "Epoch 43/1801\n",
      "1801/1801 [==============================] - 13s 7ms/step - loss: 0.5622 - accuracy: 0.8026 - val_loss: 0.9028 - val_accuracy: 0.6770\n",
      "Epoch 44/1801\n",
      "1801/1801 [==============================] - 12s 7ms/step - loss: 0.5610 - accuracy: 0.8032 - val_loss: 0.9028 - val_accuracy: 0.6772\n",
      "Epoch 45/1801\n",
      "1801/1801 [==============================] - 13s 7ms/step - loss: 0.5628 - accuracy: 0.8026 - val_loss: 0.9028 - val_accuracy: 0.6775\n",
      "Epoch 46/1801\n",
      "1801/1801 [==============================] - 13s 7ms/step - loss: 0.5629 - accuracy: 0.8048 - val_loss: 0.9028 - val_accuracy: 0.6776\n",
      "Epoch 47/1801\n",
      "1801/1801 [==============================] - 12s 7ms/step - loss: 0.5622 - accuracy: 0.8037 - val_loss: 0.9029 - val_accuracy: 0.6776\n",
      "Epoch 48/1801\n",
      "1801/1801 [==============================] - 12s 7ms/step - loss: 0.5626 - accuracy: 0.8049 - val_loss: 0.9029 - val_accuracy: 0.6776\n",
      "Epoch 49/1801\n",
      "1801/1801 [==============================] - 12s 7ms/step - loss: 0.5604 - accuracy: 0.8049 - val_loss: 0.9029 - val_accuracy: 0.6775\n",
      "Epoch 50/1801\n",
      "1801/1801 [==============================] - 12s 7ms/step - loss: 0.5646 - accuracy: 0.8023 - val_loss: 0.9029 - val_accuracy: 0.6775\n",
      "Epoch 51/1801\n",
      "1801/1801 [==============================] - 12s 7ms/step - loss: 0.5644 - accuracy: 0.8034 - val_loss: 0.9029 - val_accuracy: 0.6775\n",
      "Epoch 52/1801\n",
      "1801/1801 [==============================] - 12s 7ms/step - loss: 0.5627 - accuracy: 0.8035 - val_loss: 0.9029 - val_accuracy: 0.6775\n",
      "Epoch 53/1801\n",
      "1801/1801 [==============================] - 12s 7ms/step - loss: 0.5605 - accuracy: 0.8050 - val_loss: 0.9029 - val_accuracy: 0.6775\n",
      "Epoch 54/1801\n",
      "1801/1801 [==============================] - 12s 7ms/step - loss: 0.5622 - accuracy: 0.8044 - val_loss: 0.9029 - val_accuracy: 0.6775\n",
      "Epoch 55/1801\n",
      "1801/1801 [==============================] - 13s 7ms/step - loss: 0.5609 - accuracy: 0.8019 - val_loss: 0.9029 - val_accuracy: 0.6775\n",
      "Epoch 56/1801\n"
     ]
    },
    {
     "name": "stdout",
     "output_type": "stream",
     "text": [
      "1801/1801 [==============================] - 12s 7ms/step - loss: 0.5646 - accuracy: 0.8042 - val_loss: 0.9029 - val_accuracy: 0.6775\n",
      "Epoch 57/1801\n",
      "1801/1801 [==============================] - 12s 7ms/step - loss: 0.5611 - accuracy: 0.8022 - val_loss: 0.9029 - val_accuracy: 0.6775\n",
      "Epoch 58/1801\n",
      "1801/1801 [==============================] - 12s 7ms/step - loss: 0.5629 - accuracy: 0.8017 - val_loss: 0.9029 - val_accuracy: 0.6775\n",
      "Epoch 59/1801\n",
      "1801/1801 [==============================] - 12s 7ms/step - loss: 0.5608 - accuracy: 0.8034 - val_loss: 0.9029 - val_accuracy: 0.6775\n",
      "Epoch 60/1801\n",
      "1801/1801 [==============================] - 12s 7ms/step - loss: 0.5610 - accuracy: 0.8047 - val_loss: 0.9029 - val_accuracy: 0.6775\n",
      "Epoch 61/1801\n",
      "1801/1801 [==============================] - 12s 7ms/step - loss: 0.5620 - accuracy: 0.8031 - val_loss: 0.9029 - val_accuracy: 0.6775\n",
      "Epoch 62/1801\n",
      "1801/1801 [==============================] - 12s 7ms/step - loss: 0.5588 - accuracy: 0.8030 - val_loss: 0.9029 - val_accuracy: 0.6775\n",
      "Epoch 63/1801\n",
      "1801/1801 [==============================] - 12s 7ms/step - loss: 0.5625 - accuracy: 0.8012 - val_loss: 0.9029 - val_accuracy: 0.6775\n",
      "Epoch 64/1801\n",
      "1801/1801 [==============================] - 12s 7ms/step - loss: 0.5628 - accuracy: 0.8024 - val_loss: 0.9029 - val_accuracy: 0.6775\n",
      "Epoch 65/1801\n",
      "1801/1801 [==============================] - 13s 7ms/step - loss: 0.5632 - accuracy: 0.8006 - val_loss: 0.9029 - val_accuracy: 0.6775\n",
      "Epoch 66/1801\n",
      "1801/1801 [==============================] - 19s 11ms/step - loss: 0.5627 - accuracy: 0.8015 - val_loss: 0.9029 - val_accuracy: 0.6775\n",
      "Epoch 67/1801\n",
      "1801/1801 [==============================] - 14s 8ms/step - loss: 0.5614 - accuracy: 0.8009 - val_loss: 0.9029 - val_accuracy: 0.6775\n",
      "Epoch 68/1801\n",
      "1801/1801 [==============================] - 12s 7ms/step - loss: 0.5609 - accuracy: 0.8026 - val_loss: 0.9029 - val_accuracy: 0.6775\n",
      "Epoch 69/1801\n",
      "1801/1801 [==============================] - 13s 7ms/step - loss: 0.5619 - accuracy: 0.8042 - val_loss: 0.9029 - val_accuracy: 0.6775\n",
      "Epoch 70/1801\n",
      "1801/1801 [==============================] - 12s 7ms/step - loss: 0.5600 - accuracy: 0.8061 - val_loss: 0.9029 - val_accuracy: 0.6775\n",
      "Epoch 71/1801\n",
      "1801/1801 [==============================] - 12s 7ms/step - loss: 0.5622 - accuracy: 0.8031 - val_loss: 0.9029 - val_accuracy: 0.6775\n",
      "Epoch 72/1801\n",
      "1801/1801 [==============================] - 12s 7ms/step - loss: 0.5600 - accuracy: 0.8032 - val_loss: 0.9029 - val_accuracy: 0.6775\n",
      "Epoch 73/1801\n",
      "1801/1801 [==============================] - 12s 7ms/step - loss: 0.5644 - accuracy: 0.8001 - val_loss: 0.9029 - val_accuracy: 0.6775\n",
      "Epoch 74/1801\n",
      "1801/1801 [==============================] - 12s 7ms/step - loss: 0.5610 - accuracy: 0.8040 - val_loss: 0.9029 - val_accuracy: 0.6775\n",
      "Epoch 75/1801\n",
      "1801/1801 [==============================] - 13s 7ms/step - loss: 0.5650 - accuracy: 0.8009 - val_loss: 0.9029 - val_accuracy: 0.6775\n",
      "Epoch 76/1801\n",
      "1801/1801 [==============================] - 13s 7ms/step - loss: 0.5627 - accuracy: 0.8026 - val_loss: 0.9029 - val_accuracy: 0.6775\n",
      "Epoch 77/1801\n",
      "1801/1801 [==============================] - 12s 7ms/step - loss: 0.5664 - accuracy: 0.8021 - val_loss: 0.9029 - val_accuracy: 0.6775\n",
      "Epoch 78/1801\n",
      "1801/1801 [==============================] - 13s 7ms/step - loss: 0.5633 - accuracy: 0.8029 - val_loss: 0.9029 - val_accuracy: 0.6775\n",
      "Epoch 79/1801\n",
      "1801/1801 [==============================] - 12s 7ms/step - loss: 0.5615 - accuracy: 0.8047 - val_loss: 0.9029 - val_accuracy: 0.6775\n",
      "Epoch 80/1801\n",
      "1801/1801 [==============================] - 12s 7ms/step - loss: 0.5622 - accuracy: 0.8037 - val_loss: 0.9029 - val_accuracy: 0.6775\n",
      "Epoch 81/1801\n",
      "1801/1801 [==============================] - 12s 7ms/step - loss: 0.5613 - accuracy: 0.8037 - val_loss: 0.9029 - val_accuracy: 0.6775\n",
      "Epoch 82/1801\n",
      "1801/1801 [==============================] - 12s 7ms/step - loss: 0.5604 - accuracy: 0.8056 - val_loss: 0.9029 - val_accuracy: 0.6775\n",
      "Epoch 83/1801\n",
      "1801/1801 [==============================] - 12s 7ms/step - loss: 0.5629 - accuracy: 0.8022 - val_loss: 0.9029 - val_accuracy: 0.6775\n",
      "Epoch 84/1801\n",
      "1801/1801 [==============================] - 12s 7ms/step - loss: 0.5625 - accuracy: 0.8045 - val_loss: 0.9029 - val_accuracy: 0.6775\n",
      "Epoch 85/1801\n",
      "1801/1801 [==============================] - 12s 7ms/step - loss: 0.5630 - accuracy: 0.8060 - val_loss: 0.9029 - val_accuracy: 0.6775\n",
      "Epoch 86/1801\n",
      "1801/1801 [==============================] - 12s 7ms/step - loss: 0.5613 - accuracy: 0.8023 - val_loss: 0.9029 - val_accuracy: 0.6775\n",
      "Epoch 87/1801\n",
      "1801/1801 [==============================] - 12s 7ms/step - loss: 0.5601 - accuracy: 0.8048 - val_loss: 0.9029 - val_accuracy: 0.6775\n",
      "Epoch 88/1801\n",
      "1801/1801 [==============================] - 12s 7ms/step - loss: 0.5615 - accuracy: 0.8017 - val_loss: 0.9029 - val_accuracy: 0.6775\n",
      "Epoch 89/1801\n",
      "1801/1801 [==============================] - 12s 7ms/step - loss: 0.5595 - accuracy: 0.8060 - val_loss: 0.9029 - val_accuracy: 0.6775\n",
      "Epoch 90/1801\n",
      "1801/1801 [==============================] - 12s 7ms/step - loss: 0.5636 - accuracy: 0.8021 - val_loss: 0.9029 - val_accuracy: 0.6775\n",
      "Epoch 91/1801\n",
      "1801/1801 [==============================] - 12s 7ms/step - loss: 0.5641 - accuracy: 0.8017 - val_loss: 0.9029 - val_accuracy: 0.6775\n",
      "Epoch 92/1801\n",
      "1801/1801 [==============================] - 14s 8ms/step - loss: 0.5622 - accuracy: 0.8028 - val_loss: 0.9029 - val_accuracy: 0.6775\n",
      "Epoch 93/1801\n",
      "1801/1801 [==============================] - 14s 8ms/step - loss: 0.5643 - accuracy: 0.8009 - val_loss: 0.9029 - val_accuracy: 0.6775\n",
      "Epoch 94/1801\n",
      "1801/1801 [==============================] - 14s 8ms/step - loss: 0.5635 - accuracy: 0.8016 - val_loss: 0.9029 - val_accuracy: 0.6775\n",
      "Epoch 95/1801\n",
      "1801/1801 [==============================] - 15s 8ms/step - loss: 0.5623 - accuracy: 0.8045 - val_loss: 0.9029 - val_accuracy: 0.6775\n",
      "Epoch 96/1801\n",
      "1801/1801 [==============================] - 13s 7ms/step - loss: 0.5612 - accuracy: 0.8054 - val_loss: 0.9029 - val_accuracy: 0.6775\n",
      "Epoch 97/1801\n",
      "1801/1801 [==============================] - 13s 7ms/step - loss: 0.5600 - accuracy: 0.8044 - val_loss: 0.9029 - val_accuracy: 0.6775\n",
      "Epoch 98/1801\n",
      "1801/1801 [==============================] - 15s 9ms/step - loss: 0.5641 - accuracy: 0.8034 - val_loss: 0.9029 - val_accuracy: 0.6775\n",
      "Epoch 99/1801\n",
      "1801/1801 [==============================] - 15s 8ms/step - loss: 0.5625 - accuracy: 0.8030 - val_loss: 0.9029 - val_accuracy: 0.6775\n",
      "Epoch 100/1801\n",
      "1801/1801 [==============================] - 14s 8ms/step - loss: 0.5657 - accuracy: 0.8029 - val_loss: 0.9029 - val_accuracy: 0.6775\n",
      "Epoch 101/1801\n",
      "1801/1801 [==============================] - 14s 8ms/step - loss: 0.5619 - accuracy: 0.8043 - val_loss: 0.9029 - val_accuracy: 0.6775\n",
      "Epoch 102/1801\n",
      "1801/1801 [==============================] - 14s 8ms/step - loss: 0.5599 - accuracy: 0.8068 - val_loss: 0.9029 - val_accuracy: 0.6775\n",
      "Epoch 103/1801\n",
      "1750/1801 [============================>.] - ETA: 0s - loss: 0.5633 - accuracy: 0.8037"
     ]
    },
    {
     "ename": "KeyboardInterrupt",
     "evalue": "",
     "output_type": "error",
     "traceback": [
      "\u001b[1;31m---------------------------------------------------------------------------\u001b[0m",
      "\u001b[1;31mKeyboardInterrupt\u001b[0m                         Traceback (most recent call last)",
      "\u001b[1;32m<ipython-input-118-9d93a8241c1d>\u001b[0m in \u001b[0;36m<module>\u001b[1;34m\u001b[0m\n\u001b[0;32m      6\u001b[0m \u001b[1;31m#                     shuffle=True,\\\u001b[0m\u001b[1;33m\u001b[0m\u001b[1;33m\u001b[0m\u001b[1;33m\u001b[0m\u001b[0m\n\u001b[0;32m      7\u001b[0m                     \u001b[0mverbose\u001b[0m\u001b[1;33m=\u001b[0m\u001b[1;36m1\u001b[0m\u001b[1;33m,\u001b[0m\u001b[1;33m\u001b[0m\u001b[1;33m\u001b[0m\u001b[0m\n\u001b[1;32m----> 8\u001b[1;33m                     callbacks=[reduce_lr, checkpoint])\n\u001b[0m",
      "\u001b[1;32m~\\AppData\\Roaming\\Python\\Python36\\site-packages\\tensorflow\\python\\keras\\engine\\training.py\u001b[0m in \u001b[0;36m_method_wrapper\u001b[1;34m(self, *args, **kwargs)\u001b[0m\n\u001b[0;32m    106\u001b[0m   \u001b[1;32mdef\u001b[0m \u001b[0m_method_wrapper\u001b[0m\u001b[1;33m(\u001b[0m\u001b[0mself\u001b[0m\u001b[1;33m,\u001b[0m \u001b[1;33m*\u001b[0m\u001b[0margs\u001b[0m\u001b[1;33m,\u001b[0m \u001b[1;33m**\u001b[0m\u001b[0mkwargs\u001b[0m\u001b[1;33m)\u001b[0m\u001b[1;33m:\u001b[0m\u001b[1;33m\u001b[0m\u001b[1;33m\u001b[0m\u001b[0m\n\u001b[0;32m    107\u001b[0m     \u001b[1;32mif\u001b[0m \u001b[1;32mnot\u001b[0m \u001b[0mself\u001b[0m\u001b[1;33m.\u001b[0m\u001b[0m_in_multi_worker_mode\u001b[0m\u001b[1;33m(\u001b[0m\u001b[1;33m)\u001b[0m\u001b[1;33m:\u001b[0m  \u001b[1;31m# pylint: disable=protected-access\u001b[0m\u001b[1;33m\u001b[0m\u001b[1;33m\u001b[0m\u001b[0m\n\u001b[1;32m--> 108\u001b[1;33m       \u001b[1;32mreturn\u001b[0m \u001b[0mmethod\u001b[0m\u001b[1;33m(\u001b[0m\u001b[0mself\u001b[0m\u001b[1;33m,\u001b[0m \u001b[1;33m*\u001b[0m\u001b[0margs\u001b[0m\u001b[1;33m,\u001b[0m \u001b[1;33m**\u001b[0m\u001b[0mkwargs\u001b[0m\u001b[1;33m)\u001b[0m\u001b[1;33m\u001b[0m\u001b[1;33m\u001b[0m\u001b[0m\n\u001b[0m\u001b[0;32m    109\u001b[0m \u001b[1;33m\u001b[0m\u001b[0m\n\u001b[0;32m    110\u001b[0m     \u001b[1;31m# Running inside `run_distribute_coordinator` already.\u001b[0m\u001b[1;33m\u001b[0m\u001b[1;33m\u001b[0m\u001b[1;33m\u001b[0m\u001b[0m\n",
      "\u001b[1;32m~\\AppData\\Roaming\\Python\\Python36\\site-packages\\tensorflow\\python\\keras\\engine\\training.py\u001b[0m in \u001b[0;36mfit\u001b[1;34m(self, x, y, batch_size, epochs, verbose, callbacks, validation_split, validation_data, shuffle, class_weight, sample_weight, initial_epoch, steps_per_epoch, validation_steps, validation_batch_size, validation_freq, max_queue_size, workers, use_multiprocessing)\u001b[0m\n\u001b[0;32m   1096\u001b[0m                 batch_size=batch_size):\n\u001b[0;32m   1097\u001b[0m               \u001b[0mcallbacks\u001b[0m\u001b[1;33m.\u001b[0m\u001b[0mon_train_batch_begin\u001b[0m\u001b[1;33m(\u001b[0m\u001b[0mstep\u001b[0m\u001b[1;33m)\u001b[0m\u001b[1;33m\u001b[0m\u001b[1;33m\u001b[0m\u001b[0m\n\u001b[1;32m-> 1098\u001b[1;33m               \u001b[0mtmp_logs\u001b[0m \u001b[1;33m=\u001b[0m \u001b[0mtrain_function\u001b[0m\u001b[1;33m(\u001b[0m\u001b[0miterator\u001b[0m\u001b[1;33m)\u001b[0m\u001b[1;33m\u001b[0m\u001b[1;33m\u001b[0m\u001b[0m\n\u001b[0m\u001b[0;32m   1099\u001b[0m               \u001b[1;32mif\u001b[0m \u001b[0mdata_handler\u001b[0m\u001b[1;33m.\u001b[0m\u001b[0mshould_sync\u001b[0m\u001b[1;33m:\u001b[0m\u001b[1;33m\u001b[0m\u001b[1;33m\u001b[0m\u001b[0m\n\u001b[0;32m   1100\u001b[0m                 \u001b[0mcontext\u001b[0m\u001b[1;33m.\u001b[0m\u001b[0masync_wait\u001b[0m\u001b[1;33m(\u001b[0m\u001b[1;33m)\u001b[0m\u001b[1;33m\u001b[0m\u001b[1;33m\u001b[0m\u001b[0m\n",
      "\u001b[1;32m~\\AppData\\Roaming\\Python\\Python36\\site-packages\\tensorflow\\python\\eager\\def_function.py\u001b[0m in \u001b[0;36m__call__\u001b[1;34m(self, *args, **kwds)\u001b[0m\n\u001b[0;32m    778\u001b[0m       \u001b[1;32melse\u001b[0m\u001b[1;33m:\u001b[0m\u001b[1;33m\u001b[0m\u001b[1;33m\u001b[0m\u001b[0m\n\u001b[0;32m    779\u001b[0m         \u001b[0mcompiler\u001b[0m \u001b[1;33m=\u001b[0m \u001b[1;34m\"nonXla\"\u001b[0m\u001b[1;33m\u001b[0m\u001b[1;33m\u001b[0m\u001b[0m\n\u001b[1;32m--> 780\u001b[1;33m         \u001b[0mresult\u001b[0m \u001b[1;33m=\u001b[0m \u001b[0mself\u001b[0m\u001b[1;33m.\u001b[0m\u001b[0m_call\u001b[0m\u001b[1;33m(\u001b[0m\u001b[1;33m*\u001b[0m\u001b[0margs\u001b[0m\u001b[1;33m,\u001b[0m \u001b[1;33m**\u001b[0m\u001b[0mkwds\u001b[0m\u001b[1;33m)\u001b[0m\u001b[1;33m\u001b[0m\u001b[1;33m\u001b[0m\u001b[0m\n\u001b[0m\u001b[0;32m    781\u001b[0m \u001b[1;33m\u001b[0m\u001b[0m\n\u001b[0;32m    782\u001b[0m       \u001b[0mnew_tracing_count\u001b[0m \u001b[1;33m=\u001b[0m \u001b[0mself\u001b[0m\u001b[1;33m.\u001b[0m\u001b[0m_get_tracing_count\u001b[0m\u001b[1;33m(\u001b[0m\u001b[1;33m)\u001b[0m\u001b[1;33m\u001b[0m\u001b[1;33m\u001b[0m\u001b[0m\n",
      "\u001b[1;32m~\\AppData\\Roaming\\Python\\Python36\\site-packages\\tensorflow\\python\\eager\\def_function.py\u001b[0m in \u001b[0;36m_call\u001b[1;34m(self, *args, **kwds)\u001b[0m\n\u001b[0;32m    805\u001b[0m       \u001b[1;31m# In this case we have created variables on the first call, so we run the\u001b[0m\u001b[1;33m\u001b[0m\u001b[1;33m\u001b[0m\u001b[1;33m\u001b[0m\u001b[0m\n\u001b[0;32m    806\u001b[0m       \u001b[1;31m# defunned version which is guaranteed to never create variables.\u001b[0m\u001b[1;33m\u001b[0m\u001b[1;33m\u001b[0m\u001b[1;33m\u001b[0m\u001b[0m\n\u001b[1;32m--> 807\u001b[1;33m       \u001b[1;32mreturn\u001b[0m \u001b[0mself\u001b[0m\u001b[1;33m.\u001b[0m\u001b[0m_stateless_fn\u001b[0m\u001b[1;33m(\u001b[0m\u001b[1;33m*\u001b[0m\u001b[0margs\u001b[0m\u001b[1;33m,\u001b[0m \u001b[1;33m**\u001b[0m\u001b[0mkwds\u001b[0m\u001b[1;33m)\u001b[0m  \u001b[1;31m# pylint: disable=not-callable\u001b[0m\u001b[1;33m\u001b[0m\u001b[1;33m\u001b[0m\u001b[0m\n\u001b[0m\u001b[0;32m    808\u001b[0m     \u001b[1;32melif\u001b[0m \u001b[0mself\u001b[0m\u001b[1;33m.\u001b[0m\u001b[0m_stateful_fn\u001b[0m \u001b[1;32mis\u001b[0m \u001b[1;32mnot\u001b[0m \u001b[1;32mNone\u001b[0m\u001b[1;33m:\u001b[0m\u001b[1;33m\u001b[0m\u001b[1;33m\u001b[0m\u001b[0m\n\u001b[0;32m    809\u001b[0m       \u001b[1;31m# Release the lock early so that multiple threads can perform the call\u001b[0m\u001b[1;33m\u001b[0m\u001b[1;33m\u001b[0m\u001b[1;33m\u001b[0m\u001b[0m\n",
      "\u001b[1;32m~\\AppData\\Roaming\\Python\\Python36\\site-packages\\tensorflow\\python\\eager\\function.py\u001b[0m in \u001b[0;36m__call__\u001b[1;34m(self, *args, **kwargs)\u001b[0m\n\u001b[0;32m   2827\u001b[0m     \u001b[1;32mwith\u001b[0m \u001b[0mself\u001b[0m\u001b[1;33m.\u001b[0m\u001b[0m_lock\u001b[0m\u001b[1;33m:\u001b[0m\u001b[1;33m\u001b[0m\u001b[1;33m\u001b[0m\u001b[0m\n\u001b[0;32m   2828\u001b[0m       \u001b[0mgraph_function\u001b[0m\u001b[1;33m,\u001b[0m \u001b[0margs\u001b[0m\u001b[1;33m,\u001b[0m \u001b[0mkwargs\u001b[0m \u001b[1;33m=\u001b[0m \u001b[0mself\u001b[0m\u001b[1;33m.\u001b[0m\u001b[0m_maybe_define_function\u001b[0m\u001b[1;33m(\u001b[0m\u001b[0margs\u001b[0m\u001b[1;33m,\u001b[0m \u001b[0mkwargs\u001b[0m\u001b[1;33m)\u001b[0m\u001b[1;33m\u001b[0m\u001b[1;33m\u001b[0m\u001b[0m\n\u001b[1;32m-> 2829\u001b[1;33m     \u001b[1;32mreturn\u001b[0m \u001b[0mgraph_function\u001b[0m\u001b[1;33m.\u001b[0m\u001b[0m_filtered_call\u001b[0m\u001b[1;33m(\u001b[0m\u001b[0margs\u001b[0m\u001b[1;33m,\u001b[0m \u001b[0mkwargs\u001b[0m\u001b[1;33m)\u001b[0m  \u001b[1;31m# pylint: disable=protected-access\u001b[0m\u001b[1;33m\u001b[0m\u001b[1;33m\u001b[0m\u001b[0m\n\u001b[0m\u001b[0;32m   2830\u001b[0m \u001b[1;33m\u001b[0m\u001b[0m\n\u001b[0;32m   2831\u001b[0m   \u001b[1;33m@\u001b[0m\u001b[0mproperty\u001b[0m\u001b[1;33m\u001b[0m\u001b[1;33m\u001b[0m\u001b[0m\n",
      "\u001b[1;32m~\\AppData\\Roaming\\Python\\Python36\\site-packages\\tensorflow\\python\\eager\\function.py\u001b[0m in \u001b[0;36m_filtered_call\u001b[1;34m(self, args, kwargs, cancellation_manager)\u001b[0m\n\u001b[0;32m   1846\u001b[0m                            resource_variable_ops.BaseResourceVariable))],\n\u001b[0;32m   1847\u001b[0m         \u001b[0mcaptured_inputs\u001b[0m\u001b[1;33m=\u001b[0m\u001b[0mself\u001b[0m\u001b[1;33m.\u001b[0m\u001b[0mcaptured_inputs\u001b[0m\u001b[1;33m,\u001b[0m\u001b[1;33m\u001b[0m\u001b[1;33m\u001b[0m\u001b[0m\n\u001b[1;32m-> 1848\u001b[1;33m         cancellation_manager=cancellation_manager)\n\u001b[0m\u001b[0;32m   1849\u001b[0m \u001b[1;33m\u001b[0m\u001b[0m\n\u001b[0;32m   1850\u001b[0m   \u001b[1;32mdef\u001b[0m \u001b[0m_call_flat\u001b[0m\u001b[1;33m(\u001b[0m\u001b[0mself\u001b[0m\u001b[1;33m,\u001b[0m \u001b[0margs\u001b[0m\u001b[1;33m,\u001b[0m \u001b[0mcaptured_inputs\u001b[0m\u001b[1;33m,\u001b[0m \u001b[0mcancellation_manager\u001b[0m\u001b[1;33m=\u001b[0m\u001b[1;32mNone\u001b[0m\u001b[1;33m)\u001b[0m\u001b[1;33m:\u001b[0m\u001b[1;33m\u001b[0m\u001b[1;33m\u001b[0m\u001b[0m\n",
      "\u001b[1;32m~\\AppData\\Roaming\\Python\\Python36\\site-packages\\tensorflow\\python\\eager\\function.py\u001b[0m in \u001b[0;36m_call_flat\u001b[1;34m(self, args, captured_inputs, cancellation_manager)\u001b[0m\n\u001b[0;32m   1922\u001b[0m       \u001b[1;31m# No tape is watching; skip to running the function.\u001b[0m\u001b[1;33m\u001b[0m\u001b[1;33m\u001b[0m\u001b[1;33m\u001b[0m\u001b[0m\n\u001b[0;32m   1923\u001b[0m       return self._build_call_outputs(self._inference_function.call(\n\u001b[1;32m-> 1924\u001b[1;33m           ctx, args, cancellation_manager=cancellation_manager))\n\u001b[0m\u001b[0;32m   1925\u001b[0m     forward_backward = self._select_forward_and_backward_functions(\n\u001b[0;32m   1926\u001b[0m         \u001b[0margs\u001b[0m\u001b[1;33m,\u001b[0m\u001b[1;33m\u001b[0m\u001b[1;33m\u001b[0m\u001b[0m\n",
      "\u001b[1;32m~\\AppData\\Roaming\\Python\\Python36\\site-packages\\tensorflow\\python\\eager\\function.py\u001b[0m in \u001b[0;36mcall\u001b[1;34m(self, ctx, args, cancellation_manager)\u001b[0m\n\u001b[0;32m    548\u001b[0m               \u001b[0minputs\u001b[0m\u001b[1;33m=\u001b[0m\u001b[0margs\u001b[0m\u001b[1;33m,\u001b[0m\u001b[1;33m\u001b[0m\u001b[1;33m\u001b[0m\u001b[0m\n\u001b[0;32m    549\u001b[0m               \u001b[0mattrs\u001b[0m\u001b[1;33m=\u001b[0m\u001b[0mattrs\u001b[0m\u001b[1;33m,\u001b[0m\u001b[1;33m\u001b[0m\u001b[1;33m\u001b[0m\u001b[0m\n\u001b[1;32m--> 550\u001b[1;33m               ctx=ctx)\n\u001b[0m\u001b[0;32m    551\u001b[0m         \u001b[1;32melse\u001b[0m\u001b[1;33m:\u001b[0m\u001b[1;33m\u001b[0m\u001b[1;33m\u001b[0m\u001b[0m\n\u001b[0;32m    552\u001b[0m           outputs = execute.execute_with_cancellation(\n",
      "\u001b[1;32m~\\AppData\\Roaming\\Python\\Python36\\site-packages\\tensorflow\\python\\eager\\execute.py\u001b[0m in \u001b[0;36mquick_execute\u001b[1;34m(op_name, num_outputs, inputs, attrs, ctx, name)\u001b[0m\n\u001b[0;32m     58\u001b[0m     \u001b[0mctx\u001b[0m\u001b[1;33m.\u001b[0m\u001b[0mensure_initialized\u001b[0m\u001b[1;33m(\u001b[0m\u001b[1;33m)\u001b[0m\u001b[1;33m\u001b[0m\u001b[1;33m\u001b[0m\u001b[0m\n\u001b[0;32m     59\u001b[0m     tensors = pywrap_tfe.TFE_Py_Execute(ctx._handle, device_name, op_name,\n\u001b[1;32m---> 60\u001b[1;33m                                         inputs, attrs, num_outputs)\n\u001b[0m\u001b[0;32m     61\u001b[0m   \u001b[1;32mexcept\u001b[0m \u001b[0mcore\u001b[0m\u001b[1;33m.\u001b[0m\u001b[0m_NotOkStatusException\u001b[0m \u001b[1;32mas\u001b[0m \u001b[0me\u001b[0m\u001b[1;33m:\u001b[0m\u001b[1;33m\u001b[0m\u001b[1;33m\u001b[0m\u001b[0m\n\u001b[0;32m     62\u001b[0m     \u001b[1;32mif\u001b[0m \u001b[0mname\u001b[0m \u001b[1;32mis\u001b[0m \u001b[1;32mnot\u001b[0m \u001b[1;32mNone\u001b[0m\u001b[1;33m:\u001b[0m\u001b[1;33m\u001b[0m\u001b[1;33m\u001b[0m\u001b[0m\n",
      "\u001b[1;31mKeyboardInterrupt\u001b[0m: "
     ]
    }
   ],
   "source": [
    "# with tf.device('device:XLA_GPU:0'):\n",
    "history = model.fit(x_train, x_labels , \\\n",
    "                    batch_size = 16,\\\n",
    "                    epochs= len(x_train) // config['batch_size'] + 1,\\\n",
    "                    validation_data=(y_train, y_labels),\n",
    "#                     shuffle=True,\\\n",
    "                    verbose=1,\n",
    "                    callbacks=[reduce_lr, checkpoint])"
   ]
  },
  {
   "cell_type": "markdown",
   "metadata": {},
   "source": [
    "### Testing the model performance\n",
    "\n",
    "Testing the performance of the model on the testing data provided"
   ]
  },
  {
   "cell_type": "code",
   "execution_count": 123,
   "metadata": {},
   "outputs": [],
   "source": [
    "testing = pd.read_csv(r'Corona_NLP_test.csv', encoding='latin1')"
   ]
  },
  {
   "cell_type": "code",
   "execution_count": 141,
   "metadata": {},
   "outputs": [
    {
     "data": {
      "text/html": [
       "<div>\n",
       "<style scoped>\n",
       "    .dataframe tbody tr th:only-of-type {\n",
       "        vertical-align: middle;\n",
       "    }\n",
       "\n",
       "    .dataframe tbody tr th {\n",
       "        vertical-align: top;\n",
       "    }\n",
       "\n",
       "    .dataframe thead th {\n",
       "        text-align: right;\n",
       "    }\n",
       "</style>\n",
       "<table border=\"1\" class=\"dataframe\">\n",
       "  <thead>\n",
       "    <tr style=\"text-align: right;\">\n",
       "      <th></th>\n",
       "      <th>UserName</th>\n",
       "      <th>ScreenName</th>\n",
       "      <th>Location</th>\n",
       "      <th>TweetAt</th>\n",
       "      <th>OriginalTweet</th>\n",
       "      <th>Sentiment</th>\n",
       "    </tr>\n",
       "  </thead>\n",
       "  <tbody>\n",
       "    <tr>\n",
       "      <th>0</th>\n",
       "      <td>1</td>\n",
       "      <td>44953</td>\n",
       "      <td>NYC</td>\n",
       "      <td>02-03-2020</td>\n",
       "      <td>TRENDING: New Yorkers encounter empty supermar...</td>\n",
       "      <td>Extremely Negative</td>\n",
       "    </tr>\n",
       "    <tr>\n",
       "      <th>1</th>\n",
       "      <td>2</td>\n",
       "      <td>44954</td>\n",
       "      <td>Seattle, WA</td>\n",
       "      <td>02-03-2020</td>\n",
       "      <td>When I couldn't find hand sanitizer at Fred Me...</td>\n",
       "      <td>Positive</td>\n",
       "    </tr>\n",
       "    <tr>\n",
       "      <th>2</th>\n",
       "      <td>3</td>\n",
       "      <td>44955</td>\n",
       "      <td>NaN</td>\n",
       "      <td>02-03-2020</td>\n",
       "      <td>Find out how you can protect yourself and love...</td>\n",
       "      <td>Extremely Positive</td>\n",
       "    </tr>\n",
       "    <tr>\n",
       "      <th>3</th>\n",
       "      <td>4</td>\n",
       "      <td>44956</td>\n",
       "      <td>Chicagoland</td>\n",
       "      <td>02-03-2020</td>\n",
       "      <td>#Panic buying hits #NewYork City as anxious sh...</td>\n",
       "      <td>Negative</td>\n",
       "    </tr>\n",
       "    <tr>\n",
       "      <th>4</th>\n",
       "      <td>5</td>\n",
       "      <td>44957</td>\n",
       "      <td>Melbourne, Victoria</td>\n",
       "      <td>03-03-2020</td>\n",
       "      <td>#toiletpaper #dunnypaper #coronavirus #coronav...</td>\n",
       "      <td>Neutral</td>\n",
       "    </tr>\n",
       "  </tbody>\n",
       "</table>\n",
       "</div>"
      ],
      "text/plain": [
       "   UserName  ScreenName             Location     TweetAt  \\\n",
       "0         1       44953                  NYC  02-03-2020   \n",
       "1         2       44954          Seattle, WA  02-03-2020   \n",
       "2         3       44955                  NaN  02-03-2020   \n",
       "3         4       44956          Chicagoland  02-03-2020   \n",
       "4         5       44957  Melbourne, Victoria  03-03-2020   \n",
       "\n",
       "                                       OriginalTweet           Sentiment  \n",
       "0  TRENDING: New Yorkers encounter empty supermar...  Extremely Negative  \n",
       "1  When I couldn't find hand sanitizer at Fred Me...            Positive  \n",
       "2  Find out how you can protect yourself and love...  Extremely Positive  \n",
       "3  #Panic buying hits #NewYork City as anxious sh...            Negative  \n",
       "4  #toiletpaper #dunnypaper #coronavirus #coronav...             Neutral  "
      ]
     },
     "execution_count": 141,
     "metadata": {},
     "output_type": "execute_result"
    }
   ],
   "source": [
    "testing.head()"
   ]
  },
  {
   "cell_type": "code",
   "execution_count": 124,
   "metadata": {},
   "outputs": [
    {
     "name": "stderr",
     "output_type": "stream",
     "text": [
      "c:\\users\\avish\\.conda\\envs\\phase3\\lib\\site-packages\\ipykernel_launcher.py:1: UserWarning: Pandas doesn't allow columns to be created via a new attribute name - see https://pandas.pydata.org/pandas-docs/stable/indexing.html#attribute-access\n",
      "  \"\"\"Entry point for launching an IPython kernel.\n"
     ]
    }
   ],
   "source": [
    "testing.Clean = testing['OriginalTweet'].apply(data_cleaner)"
   ]
  },
  {
   "cell_type": "code",
   "execution_count": 126,
   "metadata": {},
   "outputs": [
    {
     "data": {
      "text/plain": [
       "0       TRENDING New Yorkers encounter empty supermark...\n",
       "1       When I find hand sanitizer Fred Meyer I turned...\n",
       "2                                  Find protect loved one\n",
       "3       buying hit City anxious shopper stock food amp...\n",
       "4       News NewsMelb One week everyone buying baby mi...\n",
       "                              ...                        \n",
       "3793    Meanwhile In A Supermarket Israel People dance...\n",
       "3794    Did panic buy lot non perishable item ECHO nee...\n",
       "3795    Asst Prof Economics talking recent research co...\n",
       "3796    Gov need somethings instead biar je rakyat ass...\n",
       "3797    I member committed safety employee end user We...\n",
       "Name: OriginalTweet, Length: 3798, dtype: object"
      ]
     },
     "execution_count": 126,
     "metadata": {},
     "output_type": "execute_result"
    }
   ],
   "source": [
    "testing.Clean"
   ]
  },
  {
   "cell_type": "code",
   "execution_count": 128,
   "metadata": {},
   "outputs": [],
   "source": [
    "testing_data = tokenizer.texts_to_sequences(testing.Clean)"
   ]
  },
  {
   "cell_type": "code",
   "execution_count": 130,
   "metadata": {},
   "outputs": [],
   "source": [
    "testing_data = pad_sequences(testing_data, padding= 'post')"
   ]
  },
  {
   "cell_type": "code",
   "execution_count": 131,
   "metadata": {},
   "outputs": [
    {
     "name": "stdout",
     "output_type": "stream",
     "text": [
      "WARNING:tensorflow:From <ipython-input-131-ff5285eef4fe>:1: Sequential.predict_proba (from tensorflow.python.keras.engine.sequential) is deprecated and will be removed after 2021-01-01.\n",
      "Instructions for updating:\n",
      "Please use `model.predict()` instead.\n",
      "WARNING:tensorflow:Model was constructed with shape (None, 54) for input Tensor(\"embedding_8_input:0\", shape=(None, 54), dtype=float32), but it was called on an input with incompatible shape (None, 48).\n"
     ]
    }
   ],
   "source": [
    "decisions = model.predict_proba(testing_data)"
   ]
  },
  {
   "cell_type": "code",
   "execution_count": 133,
   "metadata": {},
   "outputs": [
    {
     "data": {
      "text/plain": [
       "(3798, 5)"
      ]
     },
     "execution_count": 133,
     "metadata": {},
     "output_type": "execute_result"
    }
   ],
   "source": [
    "decisions.shape"
   ]
  },
  {
   "cell_type": "code",
   "execution_count": 134,
   "metadata": {},
   "outputs": [],
   "source": [
    "decision_dummies = np.where(decisions >0.5,1,0)"
   ]
  },
  {
   "cell_type": "code",
   "execution_count": 135,
   "metadata": {},
   "outputs": [
    {
     "data": {
      "text/plain": [
       "array([[0, 0, 0, 0, 0],\n",
       "       [0, 0, 0, 0, 0],\n",
       "       [0, 1, 0, 0, 0],\n",
       "       ...,\n",
       "       [0, 0, 0, 1, 0],\n",
       "       [1, 0, 0, 0, 0],\n",
       "       [0, 1, 0, 0, 0]])"
      ]
     },
     "execution_count": 135,
     "metadata": {},
     "output_type": "execute_result"
    }
   ],
   "source": [
    "decision_dummies"
   ]
  },
  {
   "cell_type": "code",
   "execution_count": 140,
   "metadata": {},
   "outputs": [],
   "source": [
    "from sklearn.metrics import confusion_matrix, roc_curve, roc_auc_score\n",
    "import matplotlib.pyplot as plt\n",
    "import seaborn as sns\n",
    "\n",
    "sns.set_style('darkgrid')"
   ]
  },
  {
   "cell_type": "code",
   "execution_count": 142,
   "metadata": {},
   "outputs": [],
   "source": [
    "labels_testing = pd.get_dummies(testing['Sentiment'])"
   ]
  },
  {
   "cell_type": "code",
   "execution_count": 155,
   "metadata": {},
   "outputs": [],
   "source": [
    "labels_testing = np.asarray(labels_testing)\n",
    "decisions = np.asarray(decisions)"
   ]
  },
  {
   "cell_type": "code",
   "execution_count": 157,
   "metadata": {},
   "outputs": [],
   "source": [
    "from sklearn.metrics import auc"
   ]
  },
  {
   "cell_type": "code",
   "execution_count": 159,
   "metadata": {},
   "outputs": [],
   "source": [
    "fpr = dict()\n",
    "tpr = dict()\n",
    "roc_auc = dict()\n",
    "for i in range(5):\n",
    "    fpr[i], tpr[i], _ = roc_curve(labels_testing[:, i], decisions[:, i])\n",
    "    roc_auc[i] = auc(fpr[i], tpr[i])\n",
    "\n",
    "# Compute micro-average ROC curve and ROC area\n",
    "fpr[\"micro\"], tpr[\"micro\"], _ = roc_curve(labels_testing.ravel(), decisions.ravel())\n",
    "roc_auc[\"micro\"] = auc(fpr[\"micro\"], tpr[\"micro\"])"
   ]
  },
  {
   "cell_type": "code",
   "execution_count": 167,
   "metadata": {},
   "outputs": [
    {
     "name": "stderr",
     "output_type": "stream",
     "text": [
      "c:\\users\\avish\\.conda\\envs\\phase3\\lib\\site-packages\\ipykernel_launcher.py:10: DeprecationWarning: scipy.interp is deprecated and will be removed in SciPy 2.0.0, use numpy.interp instead\n",
      "  # Remove the CWD from sys.path while we load stuff.\n"
     ]
    },
    {
     "data": {
      "image/png": "[encoded data removed]",
      "text/plain": [
       "<Figure size 432x288 with 1 Axes>"
      ]
     },
     "metadata": {},
     "output_type": "display_data"
    }
   ],
   "source": [
    "# First aggregate all false positive rates\n",
    "# n_classes = len(set(labels_testing))\n",
    "n_classes = 5\n",
    "lw = 2\n",
    "all_fpr = np.unique(np.concatenate([fpr[i] for i in range(5)]))\n",
    "\n",
    "# Then interpolate all ROC curves at this points\n",
    "mean_tpr = np.zeros_like(all_fpr)\n",
    "for i in range(n_classes):\n",
    "    mean_tpr += interp(all_fpr, fpr[i], tpr[i])\n",
    "\n",
    "# Finally average it and compute AUC\n",
    "mean_tpr /= n_classes\n",
    "\n",
    "fpr[\"macro\"] = all_fpr\n",
    "tpr[\"macro\"] = mean_tpr\n",
    "roc_auc[\"macro\"] = auc(fpr[\"macro\"], tpr[\"macro\"])\n",
    "\n",
    "# Plot all ROC curves\n",
    "plt.figure()\n",
    "plt.plot(fpr[\"micro\"], tpr[\"micro\"],\n",
    "         label='micro-average ROC curve (area = {0:0.2f})'\n",
    "               ''.format(roc_auc[\"micro\"]),\n",
    "         color='deeppink', linestyle=':', linewidth=4)\n",
    "\n",
    "plt.plot(fpr[\"macro\"], tpr[\"macro\"],\n",
    "         label='macro-average ROC curve (area = {0:0.2f})'\n",
    "               ''.format(roc_auc[\"macro\"]),\n",
    "         color='navy', linestyle=':', linewidth=4)\n",
    "\n",
    "colors = cycle(['aqua', 'darkorange', 'cornflowerblue'])\n",
    "for i, color in zip(range(n_classes), colors):\n",
    "    plt.plot(fpr[i], tpr[i], color=color, lw=lw,\n",
    "             label='ROC curve of class {0} (area = {1:0.2f})'\n",
    "             ''.format(i, roc_auc[i]))\n",
    "\n",
    "plt.plot([0, 1], [0, 1], 'k--', lw=lw)\n",
    "plt.xlim([0.0, 1.0])\n",
    "plt.ylim([0.0, 1.05])\n",
    "plt.xlabel('False Positive Rate')\n",
    "plt.ylabel('True Positive Rate')\n",
    "plt.title('Some extension of Receiver operating characteristic to multi-class')\n",
    "plt.legend(loc=\"lower right\")\n",
    "plt.show()"
   ]
  },
  {
   "cell_type": "code",
   "execution_count": 169,
   "metadata": {
    "scrolled": true
   },
   "outputs": [
    {
     "data": {
      "text/html": [
       "<div>\n",
       "<style scoped>\n",
       "    .dataframe tbody tr th:only-of-type {\n",
       "        vertical-align: middle;\n",
       "    }\n",
       "\n",
       "    .dataframe tbody tr th {\n",
       "        vertical-align: top;\n",
       "    }\n",
       "\n",
       "    .dataframe thead th {\n",
       "        text-align: right;\n",
       "    }\n",
       "</style>\n",
       "<table border=\"1\" class=\"dataframe\">\n",
       "  <thead>\n",
       "    <tr style=\"text-align: right;\">\n",
       "      <th></th>\n",
       "      <th>Extremely Negative</th>\n",
       "      <th>Extremely Positive</th>\n",
       "      <th>Negative</th>\n",
       "      <th>Neutral</th>\n",
       "      <th>Positive</th>\n",
       "    </tr>\n",
       "  </thead>\n",
       "  <tbody>\n",
       "    <tr>\n",
       "      <th>0</th>\n",
       "      <td>1</td>\n",
       "      <td>0</td>\n",
       "      <td>0</td>\n",
       "      <td>0</td>\n",
       "      <td>0</td>\n",
       "    </tr>\n",
       "    <tr>\n",
       "      <th>1</th>\n",
       "      <td>0</td>\n",
       "      <td>0</td>\n",
       "      <td>0</td>\n",
       "      <td>1</td>\n",
       "      <td>0</td>\n",
       "    </tr>\n",
       "    <tr>\n",
       "      <th>2</th>\n",
       "      <td>0</td>\n",
       "      <td>0</td>\n",
       "      <td>0</td>\n",
       "      <td>0</td>\n",
       "      <td>1</td>\n",
       "    </tr>\n",
       "    <tr>\n",
       "      <th>3</th>\n",
       "      <td>0</td>\n",
       "      <td>0</td>\n",
       "      <td>1</td>\n",
       "      <td>0</td>\n",
       "      <td>0</td>\n",
       "    </tr>\n",
       "    <tr>\n",
       "      <th>4</th>\n",
       "      <td>0</td>\n",
       "      <td>1</td>\n",
       "      <td>0</td>\n",
       "      <td>0</td>\n",
       "      <td>0</td>\n",
       "    </tr>\n",
       "  </tbody>\n",
       "</table>\n",
       "</div>"
      ],
      "text/plain": [
       "   Extremely Negative  Extremely Positive  Negative  Neutral  Positive\n",
       "0                   1                   0         0        0         0\n",
       "1                   0                   0         0        1         0\n",
       "2                   0                   0         0        0         1\n",
       "3                   0                   0         1        0         0\n",
       "4                   0                   1         0        0         0"
      ]
     },
     "execution_count": 169,
     "metadata": {},
     "output_type": "execute_result"
    }
   ],
   "source": [
    "pd.get_dummies(list(set(training['Sentiment'].values)))"
   ]
  },
  {
   "cell_type": "markdown",
   "metadata": {},
   "source": [
    "# Conclusion:\n",
    "Micro averaged ROC: 0.84 \\\n",
    "Class 0, Class 1, Class 3 have a high ROC score of 0.9, 0.91, 0.89 (Extremely Negative, Extremely Positive, Neutral)"
   ]
  },
  {
   "cell_type": "markdown",
   "metadata": {},
   "source": [
    "### Experimenting with moving the decision threshold"
   ]
  },
  {
   "cell_type": "code",
   "execution_count": 178,
   "metadata": {},
   "outputs": [
    {
     "name": "stderr",
     "output_type": "stream",
     "text": [
      "c:\\users\\avish\\.conda\\envs\\phase3\\lib\\site-packages\\ipykernel_launcher.py:24: DeprecationWarning: scipy.interp is deprecated and will be removed in SciPy 2.0.0, use numpy.interp instead\n"
     ]
    },
    {
     "data": {
      "image/png": "[encoded data removed]",
      "text/plain": [
       "<Figure size 432x288 with 1 Axes>"
      ]
     },
     "metadata": {},
     "output_type": "display_data"
    }
   ],
   "source": [
    "decision_dummies = np.where(decisions >0.55,1,0)\n",
    "\n",
    "fpr = dict()\n",
    "tpr = dict()\n",
    "roc_auc = dict()\n",
    "for i in range(5):\n",
    "    fpr[i], tpr[i], _ = roc_curve(labels_testing[:, i], decision_dummies[:, i]) # decision\n",
    "    roc_auc[i] = auc(fpr[i], tpr[i])\n",
    "\n",
    "# Compute micro-average ROC curve and ROC area\n",
    "fpr[\"micro\"], tpr[\"micro\"], _ = roc_curve(labels_testing.ravel(), decision_dummies.ravel()) # decision\n",
    "roc_auc[\"micro\"] = auc(fpr[\"micro\"], tpr[\"micro\"])\n",
    "\n",
    "\n",
    "# First aggregate all false positive rates\n",
    "# n_classes = len(set(labels_testing))\n",
    "n_classes = 5\n",
    "lw = 2\n",
    "all_fpr = np.unique(np.concatenate([fpr[i] for i in range(5)]))\n",
    "\n",
    "# Then interpolate all ROC curves at this points\n",
    "mean_tpr = np.zeros_like(all_fpr)\n",
    "for i in range(n_classes):\n",
    "    mean_tpr += interp(all_fpr, fpr[i], tpr[i])\n",
    "\n",
    "# Finally average it and compute AUC\n",
    "mean_tpr /= n_classes\n",
    "\n",
    "fpr[\"macro\"] = all_fpr\n",
    "tpr[\"macro\"] = mean_tpr\n",
    "roc_auc[\"macro\"] = auc(fpr[\"macro\"], tpr[\"macro\"])\n",
    "\n",
    "# Plot all ROC curves\n",
    "plt.figure()\n",
    "plt.plot(fpr[\"micro\"], tpr[\"micro\"],\n",
    "         label='micro-average ROC curve (area = {0:0.2f})'\n",
    "               ''.format(roc_auc[\"micro\"]),\n",
    "         color='deeppink', linestyle=':', linewidth=4)\n",
    "\n",
    "plt.plot(fpr[\"macro\"], tpr[\"macro\"],\n",
    "         label='macro-average ROC curve (area = {0:0.2f})'\n",
    "               ''.format(roc_auc[\"macro\"]),\n",
    "         color='navy', linestyle=':', linewidth=4)\n",
    "\n",
    "colors = cycle(['aqua', 'darkorange', 'cornflowerblue'])\n",
    "for i, color in zip(range(n_classes), colors):\n",
    "    plt.plot(fpr[i], tpr[i], color=color, lw=lw,\n",
    "             label='ROC curve of class {0} (area = {1:0.2f})'\n",
    "             ''.format(i, roc_auc[i]))\n",
    "\n",
    "plt.plot([0, 1], [0, 1], 'k--', lw=lw)\n",
    "plt.xlim([0.0, 1.0])\n",
    "plt.ylim([0.0, 1.05])\n",
    "plt.xlabel('False Positive Rate')\n",
    "plt.ylabel('True Positive Rate')\n",
    "plt.title('Some extension of Receiver operating characteristic to multi-class')\n",
    "plt.legend(loc=\"lower right\")\n",
    "plt.show()"
   ]
  },
  {
   "cell_type": "markdown",
   "metadata": {},
   "source": [
    "### Conclusion:\n",
    "\n",
    "Not much improvement on moving the decision threshold.\n",
    "\n",
    "Using probabilities to calculate"
   ]
  }
 ],
 "metadata": {
  "kernelspec": {
   "display_name": "Python 3",
   "language": "python",
   "name": "python3"
  },
  "language_info": {
   "codemirror_mode": {
    "name": "ipython",
    "version": 3
   },
   "file_extension": ".py",
   "mimetype": "text/x-python",
   "name": "python",
   "nbconvert_exporter": "python",
   "pygments_lexer": "ipython3",
   "version": "3.6.12"
  }
 },
 "nbformat": 4,
 "nbformat_minor": 4
}
